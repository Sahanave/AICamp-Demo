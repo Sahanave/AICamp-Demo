{
  "nbformat": 4,
  "nbformat_minor": 0,
  "metadata": {
    "colab": {
      "provenance": [],
      "authorship_tag": "ABX9TyMaFhLesqhZAa/eepp/VJM/",
      "include_colab_link": true
    },
    "kernelspec": {
      "name": "python3",
      "display_name": "Python 3"
    },
    "language_info": {
      "name": "python"
    }
  },
  "cells": [
    {
      "cell_type": "markdown",
      "metadata": {
        "id": "view-in-github",
        "colab_type": "text"
      },
      "source": [
        "<a href=\"https://colab.research.google.com/github/Sahanave/CodePapers/blob/main/PodcastGPT.ipynb\" target=\"_parent\"><img src=\"https://colab.research.google.com/assets/colab-badge.svg\" alt=\"Open In Colab\"/></a>"
      ]
    },
    {
      "cell_type": "markdown",
      "source": [
        "\n",
        "# Your Own Podcast Host\n",
        "\n",
        "What are we building : An intelligent podcast host built on the ReAct framework that dynamically creates engaging podcast content\n",
        "\n",
        "What do we need : OpenAI API key, Tavily Key, ElevenLabs API key\n",
        "\n",
        "What Framework do we use : LangGraph"
      ],
      "metadata": {
        "id": "ed5SAN54I9sy"
      }
    },
    {
      "cell_type": "code",
      "execution_count": 4,
      "metadata": {
        "id": "FeKTV2KsIRO-"
      },
      "outputs": [],
      "source": [
        "from google.colab import userdata"
      ]
    },
    {
      "cell_type": "code",
      "source": [
        "import re\n",
        "import os\n",
        "import json\n",
        "import requests\n",
        "from IPython.display import display, Audio, HTML\n",
        "from google.colab import output\n",
        "from datetime import datetime\n",
        "import tempfile"
      ],
      "metadata": {
        "id": "tYqFdXetKNUR"
      },
      "execution_count": 5,
      "outputs": []
    },
    {
      "cell_type": "markdown",
      "source": [
        "Build Our version 1: LLM + Search Tool + Voice Tool"
      ],
      "metadata": {
        "id": "FNwOXvtEJyVc"
      }
    },
    {
      "cell_type": "code",
      "source": [
        "# Install required packages\n",
        "!pip install -q langchain_community langchain_core langgraph typing_extensions\n",
        "!pip install -q langchain_openai tavily-python elevenlabs"
      ],
      "metadata": {
        "id": "N9RONLrsJ6K_"
      },
      "execution_count": 11,
      "outputs": []
    },
    {
      "cell_type": "code",
      "source": [
        "import os\n",
        "from typing import Dict, List, Optional\n",
        "from langgraph.graph import StateGraph\n",
        "from typing import TypedDict\n",
        "from langgraph.graph import START, END\n",
        "from langchain.chat_models import init_chat_model\n",
        "from langchain_community.tools import TavilySearchResults\n",
        "from dotenv import load_dotenv\n",
        "from langchain_core.prompts import ChatPromptTemplate\n",
        "from elevenlabs.client import ElevenLabs\n",
        "from elevenlabs import play\n",
        "\n",
        "\n",
        "class WebSearchState(TypedDict):\n",
        "    query: str\n",
        "    search_results: list[dict]\n",
        "    processed_results: str\n",
        "    voice_response : bool"
      ],
      "metadata": {
        "id": "ZIcwyOtSI8jV"
      },
      "execution_count": 32,
      "outputs": []
    },
    {
      "cell_type": "code",
      "source": [
        "import os\n",
        "os.environ['OPENAI_API_KEY'] = userdata.get('OPENAI_API_KEY')\n",
        "os.environ['TAVILY_API_KEY'] = userdata.get('TAVILY_API_KEY')\n",
        "class Agent():\n",
        "    \"Skeleton to test our implementation\"\n",
        "    def __init__(self):\n",
        "        self.llm = None\n",
        "        self.search_tool = None\n",
        "        self.graph = None\n",
        "        self.model_name = \"gpt-4o-mini\"\n",
        "        self.model_provider = \"openai\"\n",
        "        self.llm_prompt = None\n",
        "\n",
        "    def initialize(self) -> None:\n",
        "        \"\"\"Initialize components for web search.\n",
        "\n",
        "        - Initialize the LLM\n",
        "        - Set up Tavily search tool\n",
        "        - Create a LangGraph for web search workflow\n",
        "        \"\"\"\n",
        "        self.llm = init_chat_model(self.model_name, model_provider=self.model_provider)\n",
        "\n",
        "        self.search_tool = TavilySearchResults(\n",
        "                                max_results=5,\n",
        "                                include_answer=True,\n",
        "                                include_raw_content=True,\n",
        "                                include_images=False,\n",
        "                                search_depth=\"advanced\")\n",
        "\n",
        "\n",
        "        graph_builder = StateGraph(WebSearchState)\n",
        "        graph_builder.add_node(\"search_web\", self._create_search_node)\n",
        "        graph_builder.add_node(\"process_results\", self._create_process_results_node)\n",
        "        graph_builder.add_node('voice_node', self._call_voice_tool)\n",
        "\n",
        "        graph_builder.add_edge(START, \"search_web\")\n",
        "        graph_builder.add_edge(\"search_web\", \"process_results\")\n",
        "        graph_builder.add_edge(\"process_results\", \"voice_node\")\n",
        "        graph_builder.add_edge(\"voice_node\", END)\n",
        "\n",
        "        self.graph = graph_builder.compile()\n",
        "\n",
        "    def _create_search_node(self, state: WebSearchState):\n",
        "        \"\"\"Create a node that performs web search.\"\"\"\n",
        "        results = self.search_tool.invoke({\"query\": state[\"query\"]})\n",
        "        return {\"search_results\": results }\n",
        "\n",
        "    def _call_voice_tool(self, state:WebSearchState):\n",
        "        \"\"\"Create a node that performs web search.\"\"\"\n",
        "        question = state[\"processed_results\"]\n",
        "        client = ElevenLabs(\n",
        "        api_key=userdata.get('ELEVENLABS_API_KEY'))\n",
        "        audio = client.text_to_speech.convert(\n",
        "                text=question,\n",
        "                voice_id=\"JBFqnCBsd6RMkjVDRZzb\",\n",
        "                model_id=\"eleven_multilingual_v2\",\n",
        "                output_format=\"mp3_44100_128\",\n",
        "            )\n",
        "        play(audio)\n",
        "        return {\"voice_response\": True }\n",
        "\n",
        "\n",
        "\n",
        "    def _create_process_results_node(self, state:WebSearchState):\n",
        "        \"\"\"Create a node that processes and formats search results.\"\"\"\n",
        "        prompt = \"You are a Podcast Host. You are given a question and relevant search results. Use the search results and query provided\"\n",
        "        if self.llm_prompt:\n",
        "          prompt += self.llm_prompt\n",
        "\n",
        "        user_query = f'''User : {state[\"query\"]}, relevant_web_search_information : {state[\"search_results\"]}'''\n",
        "        prompt_template = ChatPromptTemplate.from_messages(\n",
        "        [(\"system\", prompt), (\"user\", \"{user_input}\")])\n",
        "        prompt = prompt_template.invoke({\"user_input\": user_query})\n",
        "        prompt_messages = prompt.to_messages()\n",
        "        response = self.llm.invoke(prompt_messages)\n",
        "        return {\"processed_results\": response.content }\n",
        "\n",
        "\n",
        "    def podcast_topic(self, podcast_topic: str) -> str:\n",
        "        \"\"\"Creates a podcast from topic\n",
        "\n",
        "        Args:\n",
        "            message: The user's input message\n",
        "            chat_history: Previous conversation history\n",
        "\n",
        "        Returns:\n",
        "            str: The assistant's response with search results\n",
        "        \"\"\"\n",
        "\n",
        "        result = self.graph.invoke({\"query\": podcast_topic})\n",
        "        print(result)\n",
        "        message = result[\"processed_results\"]\n",
        "\n",
        "        # This is just a placeholder\n",
        "        return f\"PodCast_convo: {message}\""
      ],
      "metadata": {
        "id": "INYoSeTuKed3"
      },
      "execution_count": 37,
      "outputs": []
    },
    {
      "cell_type": "code",
      "source": [
        "version1 = Agent()\n",
        "version1.llm_prompt = \"Prepare me a podcast with 3 (Steps) 2 (Types) 1 (Thing) framework. Keep the conversation under 2 minutes\"\n",
        "version1.initialize()"
      ],
      "metadata": {
        "id": "oW4FUw6zYzEx"
      },
      "execution_count": 38,
      "outputs": []
    },
    {
      "cell_type": "code",
      "source": [
        "from IPython.display import Image, display\n",
        "from langchain_core.runnables.graph import CurveStyle, MermaidDrawMethod, NodeStyles\n",
        "\n",
        "display(\n",
        "    Image(\n",
        "        version1.graph.get_graph().draw_mermaid_png(\n",
        "            draw_method=MermaidDrawMethod.API,\n",
        "        )\n",
        "    )\n",
        ")"
      ],
      "metadata": {
        "colab": {
          "base_uri": "https://localhost:8080/",
          "height": 449
        },
        "id": "GOp05aTUaKkT",
        "outputId": "5eec2d44-20df-48b9-b95a-a566719a9fc3"
      },
      "execution_count": 39,
      "outputs": [
        {
          "output_type": "display_data",
          "data": {
            "image/png": "[encoded data removed]",
            "text/plain": [
              "<IPython.core.display.Image object>"
            ]
          },
          "metadata": {}
        }
      ]
    },
    {
      "cell_type": "code",
      "source": [
        "version1.podcast_topic(\"gemini\")"
      ],
      "metadata": {
        "colab": {
          "base_uri": "https://localhost:8080/",
          "height": 181
        },
        "id": "2PFTpNgmbA8p",
        "outputId": "bc0df1ae-b515-4adc-df3b-e3e1ff6f12f1"
      },
      "execution_count": 40,
      "outputs": [
        {
          "output_type": "stream",
          "name": "stdout",
          "text": [
            "{'query': 'gemini', 'search_results': \"HTTPError('401 Client Error: Unauthorized for url: https://api.tavily.com/search')\", 'processed_results': \"**Podcast Title: Understanding the Gemini Zodiac Sign**\\n\\n**Host: Welcome to today's episode! Let’s dive into the captivating world of astrology and focus specifically on the Gemini Zodiac sign.**\\n\\n---\\n\\n**Step 1: Know the Traits of Gemini**\\nGeminis are known for their duality – they represent two sides, symbolized by the Twins. Typically, they are adaptable, intelligent, and social beings. Their versatility keeps them upbeat and helps them connect with various people. However, their dual nature also means they can be indecisive and sometimes inconsistent.\\n\\n**Step 2: Embrace Communication**\\nOne strong trait of Gemini is their communication skills. They thrive in social interactions and are often seen as excellent conversationalists. If you find yourself in a conversation with a Gemini, be prepared for a lively exchange!\\n\\n**Step 3: Foster Flexibility**\\nFlexibility is key when dealing with a Gemini. They appreciate spontaneity and variety, so be open to new experiences and changes. This adaptable nature can lead to a rich and exciting relationship, whether as a friend or partner.\\n\\n---\\n\\n**Type 1: Air Sign**\\nGemini is an Air sign, which means they are intellectual and drawn to mental stimulation. They enjoy exploring abstract ideas and concepts, making them great thinkers and communicators.\\n\\n**Type 2: Mutable Sign**\\nBeing a Mutable sign allows Geminis to change and adapt easily. They can navigate through different situations and enjoy keeping life fresh, helping them adjust to various social contexts effortlessly.\\n\\n---\\n\\n**One thing to remember: Geminis crave freedom!**\\nThey value their independence and often need space to explore new ideas. As a friend or partner, giving them the freedom to express themselves can strengthen your bond.\\n\\n---\\n\\n**Host: Thanks for joining today’s quick dive into the Gemini Zodiac sign! Keep exploring the stars, and don’t forget to tune in next time. Until then, keep shining!**\"}\n"
          ]
        },
        {
          "output_type": "execute_result",
          "data": {
            "text/plain": [
              "\"PodCast_convo: **Podcast Title: Understanding the Gemini Zodiac Sign**\\n\\n**Host: Welcome to today's episode! Let’s dive into the captivating world of astrology and focus specifically on the Gemini Zodiac sign.**\\n\\n---\\n\\n**Step 1: Know the Traits of Gemini**\\nGeminis are known for their duality – they represent two sides, symbolized by the Twins. Typically, they are adaptable, intelligent, and social beings. Their versatility keeps them upbeat and helps them connect with various people. However, their dual nature also means they can be indecisive and sometimes inconsistent.\\n\\n**Step 2: Embrace Communication**\\nOne strong trait of Gemini is their communication skills. They thrive in social interactions and are often seen as excellent conversationalists. If you find yourself in a conversation with a Gemini, be prepared for a lively exchange!\\n\\n**Step 3: Foster Flexibility**\\nFlexibility is key when dealing with a Gemini. They appreciate spontaneity and variety, so be open to new experiences and changes. This adaptable nature can lead to a rich and exciting relationship, whether as a friend or partner.\\n\\n---\\n\\n**Type 1: Air Sign**\\nGemini is an Air sign, which means they are intellectual and drawn to mental stimulation. They enjoy exploring abstract ideas and concepts, making them great thinkers and communicators.\\n\\n**Type 2: Mutable Sign**\\nBeing a Mutable sign allows Geminis to change and adapt easily. They can navigate through different situations and enjoy keeping life fresh, helping them adjust to various social contexts effortlessly.\\n\\n---\\n\\n**One thing to remember: Geminis crave freedom!**\\nThey value their independence and often need space to explore new ideas. As a friend or partner, giving them the freedom to express themselves can strengthen your bond.\\n\\n---\\n\\n**Host: Thanks for joining today’s quick dive into the Gemini Zodiac sign! Keep exploring the stars, and don’t forget to tune in next time. Until then, keep shining!**\""
            ],
            "application/vnd.google.colaboratory.intrinsic+json": {
              "type": "string"
            }
          },
          "metadata": {},
          "execution_count": 40
        }
      ]
    },
    {
      "cell_type": "code",
      "source": [],
      "metadata": {
        "id": "EuYVKKIrbqOJ"
      },
      "execution_count": null,
      "outputs": []
    }
  ]
}